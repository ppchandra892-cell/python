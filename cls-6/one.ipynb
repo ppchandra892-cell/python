{
 "cells": [
  {
   "cell_type": "code",
   "execution_count": null,
   "id": "7d4fe96a-ea35-4a55-8f85-a588196df448",
   "metadata": {},
   "outputs": [],
   "source": []
  }
 ],
 "metadata": {
  "kernelspec": {
   "display_name": "",
   "name": ""
  },
  "language_info": {
   "name": ""
  }
 },
 "nbformat": 4,
 "nbformat_minor": 5
}
